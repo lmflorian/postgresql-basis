{
 "cells": [
  {
   "cell_type": "markdown",
   "id": "e2f21edd",
   "metadata": {},
   "source": [
    "### In this practice we are going to walk through the basics of modeling data in normalized form."
   ]
  },
  {
   "cell_type": "code",
   "execution_count": 2,
   "id": "396224d0",
   "metadata": {},
   "outputs": [],
   "source": [
    "#Import library\n",
    "import psycopg2"
   ]
  },
  {
   "cell_type": "code",
   "execution_count": 4,
   "id": "c17d1e81",
   "metadata": {},
   "outputs": [],
   "source": [
    "#Create a connection to the database and set autocommit to True.\n",
    "try:\n",
    "    conn = psycopg2.connect(\"host=127.0.0.1 dbname=normdb user=myuser password=password\")\n",
    "except psycopg2.Error as e:\n",
    "    print(\"Error: Could not connect to database\")\n",
    "    print(e)\n",
    "\n",
    "try:\n",
    "    cur = conn.cursor()\n",
    "except psycopg2.Error as e:\n",
    "    print(\"Error: Could not get cursor to database\")\n",
    "    print(e)\n",
    "\n",
    "conn.set_session(autocommit=True)"
   ]
  },
  {
   "cell_type": "markdown",
   "id": "d4169b12",
   "metadata": {},
   "source": [
    "#### Let's imagine we have a table called Music Store. \n",
    "\n",
    "`Table Name: music_store\n",
    "column 0: Transaction Id\n",
    "column 1: Customer Name\n",
    "column 2: Cashier Name\n",
    "column 3: Year \n",
    "column 4: Albums Purchased`\n",
    "\n",
    "\n",
    "### Now to translate this information into a CREATE Table Statement and insert the data\n",
    "\n",
    "<img src=\"images/tabla1.png\" width=\"650\" height=\"650\">"
   ]
  },
  {
   "cell_type": "code",
   "execution_count": 6,
   "id": "68e3a702",
   "metadata": {},
   "outputs": [],
   "source": [
    "# Creating the table\n",
    "try:\n",
    "    cur.execute(\"CREATE TABLE IF NOT EXISTS music_store(\\\n",
    "    transaction_id int, customer_name varchar, cashier_name varchar, year int, albums_purchased text[])\")\n",
    "except psycopg2.Error as e:\n",
    "    print(\"Error: Could not create the table music_store\")\n",
    "    print(e)"
   ]
  },
  {
   "cell_type": "code",
   "execution_count": 7,
   "id": "a87eaef3",
   "metadata": {},
   "outputs": [],
   "source": [
    "# Inserting values first row\n",
    "try:\n",
    "    cur.execute(\"INSERT INTO music_store(transaction_id, customer_name, cashier_name, year, albums_purchased) \\\n",
    "    VALUES (%s, %s, %s, %s, %s)\",\\\n",
    "               (1, \"Amanda\", \"Sam\", 2000, [\"Rubber Soul\", \"Let it Be\"]))\n",
    "except psycopg2.Error as e:\n",
    "    print(\"Error: Could not insert first row\")\n",
    "    print(e)"
   ]
  },
  {
   "cell_type": "code",
   "execution_count": 8,
   "id": "d0ef9053",
   "metadata": {},
   "outputs": [],
   "source": [
    "# Inserting values second row\n",
    "try:\n",
    "    cur.execute(\"INSERT INTO music_store(transaction_id, customer_name, cashier_name, year, albums_purchased) \\\n",
    "    VALUES (%s, %s, %s, %s, %s)\",\\\n",
    "               (2, \"Toby\", \"Sam\", 2000, [\"My Generation\"]))\n",
    "except psycopg2.Error as e:\n",
    "    print(\"Error: Could not insert second row\")\n",
    "    print(e)"
   ]
  },
  {
   "cell_type": "code",
   "execution_count": 9,
   "id": "f1a653c9",
   "metadata": {},
   "outputs": [],
   "source": [
    "# Inserting values third row\n",
    "try:\n",
    "    cur.execute(\"INSERT INTO music_store(transaction_id, customer_name, cashier_name, year, albums_purchased) \\\n",
    "    VALUES (%s, %s, %s, %s, %s)\",\\\n",
    "               (3, \"Max\", \"Bob\", 2018, [\"Meet the Beatles\", \"Help!\"]))\n",
    "except psycopg2.Error as e:\n",
    "    print(\"Error: Could not insert thrid row\")\n",
    "    print(e)"
   ]
  },
  {
   "cell_type": "code",
   "execution_count": 13,
   "id": "bfda3bbd",
   "metadata": {},
   "outputs": [
    {
     "name": "stdout",
     "output_type": "stream",
     "text": [
      "(1, 'Amanda', 'Sam', 2000, ['Rubber Soul', 'Let it Be'])\n",
      "(2, 'Toby', 'Sam', 2000, ['My Generation'])\n",
      "(3, 'Max', 'Bob', 2018, ['Meet the Beatles', 'Help!'])\n"
     ]
    }
   ],
   "source": [
    "# Verification\n",
    "cur.execute(\"SELECT * FROM music_store\")\n",
    "row = cur.fetchone()\n",
    "while row:\n",
    "    print(row)\n",
    "    row = cur.fetchone()"
   ]
  },
  {
   "cell_type": "markdown",
   "id": "fb0d5119",
   "metadata": {},
   "source": [
    "### Moving to 1st Normal Form (1NF)\n",
    "\n",
    "#### TO-DO: This data has not been normalized. To get this data into 1st normal form, you need to remove any collections or list of data and break up the list of songs into individual rows. "
   ]
  },
  {
   "cell_type": "code",
   "execution_count": 14,
   "id": "cd36043c",
   "metadata": {},
   "outputs": [],
   "source": [
    "# Creating new table \n",
    "try:\n",
    "    cur.execute(\"CREATE TABLE IF NOT EXISTS music_store2(\\\n",
    "    transaction_id int, customer_name varchar, cashier_name varchar, year int, albums_purchased varchar)\")\n",
    "except psycopg2.Error as e:\n",
    "    print(\"Error: Could not create music_store2 database\")\n",
    "    print(e)"
   ]
  },
  {
   "cell_type": "code",
   "execution_count": 15,
   "id": "70eca4ed",
   "metadata": {},
   "outputs": [],
   "source": [
    "# Inserting values \n",
    "try:\n",
    "    cur.execute(\"INSERT INTO music_store2(transaction_id, customer_name, cashier_name, year, albums_purchased) \\\n",
    "    VALUES (%s, %s, %s, %s, %s)\",\\\n",
    "               (1, \"Amanda\", \"Sam\", 2000, \"Rubber Soul\"))\n",
    "    \n",
    "    cur.execute(\"INSERT INTO music_store2(transaction_id, customer_name, cashier_name, year, albums_purchased) \\\n",
    "    VALUES (%s, %s, %s, %s, %s)\",\\\n",
    "               (1, \"Amanda\", \"Sam\", 2000, \"Let it Be\"))\n",
    "    \n",
    "    cur.execute(\"INSERT INTO music_store2(transaction_id, customer_name, cashier_name, year, albums_purchased) \\\n",
    "    VALUES (%s, %s, %s, %s, %s)\",\\\n",
    "               (2, \"Toby\", \"Sam\", 2000, \"My Generation\"))\n",
    "    \n",
    "    cur.execute(\"INSERT INTO music_store2(transaction_id, customer_name, cashier_name, year, albums_purchased) \\\n",
    "    VALUES (%s, %s, %s, %s, %s)\",\\\n",
    "               (3, \"Max\", \"Bob\", 2018, \"Meet the Beatles\"))\n",
    "    \n",
    "    cur.execute(\"INSERT INTO music_store2(transaction_id, customer_name, cashier_name, year, albums_purchased) \\\n",
    "    VALUES (%s, %s, %s, %s, %s)\",\\\n",
    "               (3, \"Max\", \"Bob\", 2018, \"Help!\"))\n",
    "\n",
    "except psycopg2.Error as e:\n",
    "    print(\"Error: Could not insert values\")\n",
    "    print(e)\n",
    "    "
   ]
  },
  {
   "cell_type": "code",
   "execution_count": 16,
   "id": "9be46656",
   "metadata": {},
   "outputs": [
    {
     "name": "stdout",
     "output_type": "stream",
     "text": [
      "(1, 'Amanda', 'Sam', 2000, 'Rubber Soul')\n",
      "(1, 'Amanda', 'Sam', 2000, 'Let it Be')\n",
      "(2, 'Toby', 'Sam', 2000, 'My Generation')\n",
      "(3, 'Max', 'Bob', 2018, 'Meet the Beatles')\n",
      "(3, 'Max', 'Bob', 2018, 'Help!')\n"
     ]
    }
   ],
   "source": [
    "# Inserting 1NF verification\n",
    "cur.execute(\"SELECT * FROM music_store2\")\n",
    "row = cur.fetchone()\n",
    "\n",
    "while row:\n",
    "    print(row)\n",
    "    row = cur.fetchone()"
   ]
  },
  {
   "cell_type": "markdown",
   "id": "32d8fb4c",
   "metadata": {},
   "source": [
    "### Moving to 2nd Normal Form (2NF)\n",
    "You have now moved the data into 1NF, which is the first step in moving to 2nd Normal Form. The table is not yet in 2nd Normal Form. While each of the records in the table is unique, our Primary key (transaction id) is not unique. \n",
    "\n",
    "#### TO-DO: Break up the table into two tables, transactions and albums sold. \n"
   ]
  }
 ],
 "metadata": {
  "kernelspec": {
   "display_name": "Python 3 (ipykernel)",
   "language": "python",
   "name": "python3"
  },
  "language_info": {
   "codemirror_mode": {
    "name": "ipython",
    "version": 3
   },
   "file_extension": ".py",
   "mimetype": "text/x-python",
   "name": "python",
   "nbconvert_exporter": "python",
   "pygments_lexer": "ipython3",
   "version": "3.8.10"
  }
 },
 "nbformat": 4,
 "nbformat_minor": 5
}
