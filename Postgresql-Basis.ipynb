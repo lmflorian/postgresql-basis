{
 "cells": [
  {
   "cell_type": "code",
   "execution_count": 2,
   "id": "ce129e88",
   "metadata": {},
   "outputs": [
    {
     "name": "stdout",
     "output_type": "stream",
     "text": [
      "Defaulting to user installation because normal site-packages is not writeable\n",
      "Requirement already satisfied: psycopg2 in /home/jarminet/.local/lib/python3.8/site-packages (2.9.5)\n"
     ]
    }
   ],
   "source": [
    "# Psycopg is the most popular PostgreSQL database adapter for the Python programming language. \n",
    "!pip install psycopg2"
   ]
  },
  {
   "cell_type": "code",
   "execution_count": 3,
   "id": "6b9de215",
   "metadata": {},
   "outputs": [],
   "source": [
    "## import postgreSQL adapter for the Python\n",
    "import psycopg2"
   ]
  },
  {
   "cell_type": "markdown",
   "id": "5b4598af",
   "metadata": {},
   "source": [
    "#### Database creation from OS\n",
    "jarminet@jarminet:~$ sudo -u postgres psql \\\n",
    "postgres=# CREATE DATABASE yourdbname; \\\n",
    "postgres=# CREATE USER youruser WITH ENCRYPTED PASSWORD 'yourpass'; \\\n",
    "postgres=# GRANT ALL PRIVILEGES ON DATABASE yourdbname TO youruser; \\"
   ]
  },
  {
   "cell_type": "markdown",
   "id": "1a8acfe7",
   "metadata": {},
   "source": [
    "#### Accesing to database from OS CLI\n",
    "jarminet@jarminet:~$ psql -h localhost -p 5432 -d yourdbname -U youruser\\"
   ]
  },
  {
   "cell_type": "markdown",
   "id": "6127f9bd",
   "metadata": {},
   "source": [
    "#### Creating table\n",
    "yourdbname=> CREATE TABLE tabla1 (id INT PRIMARY KEY, name VARCHAR(50) NOT NULL);"
   ]
  },
  {
   "cell_type": "markdown",
   "id": "05096bd1",
   "metadata": {},
   "source": [
    "#### Useful commands\n",
    "\\l  - List dabases \\\n",
    "\\dt - List available tables \\\n",
    "\\d table_name - Describe database \\\n",
    "\\du - List all users and their assign roles"
   ]
  },
  {
   "cell_type": "code",
   "execution_count": 4,
   "id": "b5944d52",
   "metadata": {},
   "outputs": [],
   "source": [
    "# Create connection to the database\n",
    "conn = psycopg2.connect(\"host=127.0.0.1 dbname=yourdbname user=youruser password='yourpass'\")"
   ]
  },
  {
   "cell_type": "code",
   "execution_count": 5,
   "id": "228d1dec",
   "metadata": {},
   "outputs": [],
   "source": [
    "# Use the connection to get a cursor that will be used to execute queries.\n",
    "cur = conn.cursor()"
   ]
  },
  {
   "cell_type": "markdown",
   "id": "fbabf571",
   "metadata": {},
   "source": [
    "#### Auto-commit\n",
    "Because we're working with an ACID database we need to make sure that we commit our transactions.  If we do not commit our transactions and we try to execute another action with the same open/broken transaction, we'll an erro in our transaction block.  We're blocked until we restart the connection or commit our transaction. \\\n",
    "Instead of worrying about committing after each transaction, let's just set auto-commit to TRUE.  This says that after each call during the session, commit htat one action and do not hold open the transaction for any other actions."
   ]
  },
  {
   "cell_type": "code",
   "execution_count": 7,
   "id": "2b90f404",
   "metadata": {},
   "outputs": [],
   "source": [
    "# set autocommit\n",
    "conn.set_session(autocommit=True)"
   ]
  },
  {
   "cell_type": "code",
   "execution_count": 10,
   "id": "c2d37e0d",
   "metadata": {},
   "outputs": [],
   "source": [
    "cur.execute(\"INSERT INTO tabla1 (id, name) VALUES (101, 'luis')\")"
   ]
  },
  {
   "cell_type": "code",
   "execution_count": 11,
   "id": "b2249fb7",
   "metadata": {},
   "outputs": [],
   "source": [
    "cur.execute(\"INSERT INTO tabla1 (id, name) VALUES (102, 'Florian')\")"
   ]
  },
  {
   "cell_type": "code",
   "execution_count": 19,
   "id": "a7e1fadd",
   "metadata": {},
   "outputs": [
    {
     "data": {
      "text/plain": [
       "[(101, 'luis'), (102, 'Florian')]"
      ]
     },
     "execution_count": 19,
     "metadata": {},
     "output_type": "execute_result"
    }
   ],
   "source": [
    "cur.execute(\"SELECT * FROM tabla1;\")\n",
    "cur.fetchall()"
   ]
  },
  {
   "cell_type": "code",
   "execution_count": 20,
   "id": "04e5b14c",
   "metadata": {},
   "outputs": [],
   "source": [
    "#Create another table\n",
    "cur.execute(\"CREATE TABLE tabla2 (id INT PRIMARY KEY, profesion VARCHAR(50));\")"
   ]
  },
  {
   "cell_type": "code",
   "execution_count": 21,
   "id": "044ffd35",
   "metadata": {},
   "outputs": [],
   "source": [
    "# Insert values to the new table\n",
    "cur.execute(\"INSERT INTO tabla2 (id, profesion) VALUES (201, 'Ingeniero')\")"
   ]
  },
  {
   "cell_type": "code",
   "execution_count": 22,
   "id": "5815cb8e",
   "metadata": {},
   "outputs": [
    {
     "data": {
      "text/plain": [
       "[(201, 'Ingeniero')]"
      ]
     },
     "execution_count": 22,
     "metadata": {},
     "output_type": "execute_result"
    }
   ],
   "source": [
    "# Imprimir los datos\n",
    "cur.execute(\"SELECT * FROM tabla2\")\n",
    "cur.fetchall()"
   ]
  },
  {
   "cell_type": "markdown",
   "id": "5a4c4a0d",
   "metadata": {},
   "source": [
    "## Creating a table"
   ]
  },
  {
   "cell_type": "code",
   "execution_count": 28,
   "id": "f365ee5c",
   "metadata": {},
   "outputs": [],
   "source": [
    "#This try-except block is to make sure that errors are caught and understood.\n",
    "try: \n",
    "    conn = psycopg2.connect(\"host=127.0.0.1 dbname=yourdbname user=youruser password=yourpass\")\n",
    "except psycopg2.Error as e: \n",
    "    print(\"Error: Could not make connection to the Postgres database\")\n",
    "    print(e)"
   ]
  },
  {
   "cell_type": "code",
   "execution_count": 29,
   "id": "8bf38bc9",
   "metadata": {},
   "outputs": [],
   "source": [
    "# Get a cursor\n",
    "try: \n",
    "    cur = conn.cursor()\n",
    "except psycopg2.Error as e: \n",
    "    print(\"Error: Could not get curser to the Database\")\n",
    "    print(e)"
   ]
  },
  {
   "cell_type": "code",
   "execution_count": 30,
   "id": "e83d0a53",
   "metadata": {},
   "outputs": [],
   "source": [
    "# With automactic ach action is commited without having to call conn.commit() after each command. \n",
    "# The ability to rollback and commit transactions are a feature of Relational Databases. \n",
    "conn.set_session(autocommit=True)"
   ]
  },
  {
   "cell_type": "code",
   "execution_count": 31,
   "id": "a2d16559",
   "metadata": {},
   "outputs": [
    {
     "name": "stdout",
     "output_type": "stream",
     "text": [
      "relation \"udacity.music_library\" does not exist\n",
      "LINE 1: select * from udacity.music_library\n",
      "                      ^\n",
      "\n"
     ]
    }
   ],
   "source": [
    "# The error is because the database udacity hasn't been created yet.\n",
    "try: \n",
    "    cur.execute(\"select * from udacity.music_library\")\n",
    "except psycopg2.Error as e:\n",
    "    print(e)"
   ]
  },
  {
   "cell_type": "code",
   "execution_count": 34,
   "id": "885f761f",
   "metadata": {},
   "outputs": [],
   "source": [
    "# Create the database\n",
    "try: \n",
    "    cur.execute(\"CREATE DATABASE udacity\")\n",
    "except psycopg2.Error as e:\n",
    "    print(e)"
   ]
  },
  {
   "cell_type": "code",
   "execution_count": 35,
   "id": "768e4f6c",
   "metadata": {},
   "outputs": [],
   "source": [
    "# Close our current connection and make a new one with udacity database\n",
    "\n",
    "try: \n",
    "    conn.close()\n",
    "except psycopg2.Error as e:\n",
    "    print(e)\n",
    "  \n",
    "try: \n",
    "    conn = psycopg2.connect(\"host=127.0.0.1 dbname=udacity user=youruser password=yourpass\")\n",
    "except psycopg2.Error as e: \n",
    "    print(\"Error: Could not make connection to the Postgres database\")\n",
    "    print(e)\n",
    "    \n",
    "try: \n",
    "    cur = conn.cursor()\n",
    "except psycopg2.Error as e: \n",
    "    print(\"Error: Could not get curser to the Database\")\n",
    "    print(e)\n",
    "\n",
    "conn.set_session(autocommit=True)"
   ]
  },
  {
   "cell_type": "markdown",
   "id": "0edd4bcb",
   "metadata": {},
   "source": [
    "### We will create a Music Library of albums. Each album has a lot of information we could add to the music library table. We will  start with album name, artist name, year. \n",
    "`Table Name: music_library\n",
    "column 1: Album Name\n",
    "column 2: Artist Name\n",
    "column 3: Year `\n",
    "### Translate this information into a Create Table Statement. "
   ]
  },
  {
   "cell_type": "code",
   "execution_count": 36,
   "id": "ba9a36ee",
   "metadata": {},
   "outputs": [],
   "source": [
    "try:\n",
    "    cur.execute(\"CREATE TABLE IF NOT EXISTS music_library(album_name VARCHAR, artist_name VARCHAR, year INT);\")\n",
    "except psycopg2.Error as e:\n",
    "    print(\"Error: Could not create de database\")\n",
    "    print(e)"
   ]
  },
  {
   "cell_type": "code",
   "execution_count": 40,
   "id": "fa14825b",
   "metadata": {},
   "outputs": [],
   "source": [
    "# Inserting values to Database\n",
    "try:\n",
    "    cur.execute(\"INSERT INTO music_library (album_name, artist_name, year) VALUES (%s, %s, %s)\", \\\n",
    "                (\"Let It Be\", \"The Beatles\", 1970))\n",
    "except pyscopg2.Error as e:\n",
    "    print(\"Error: Could not insert the values\")\n",
    "    print(e)"
   ]
  },
  {
   "cell_type": "code",
   "execution_count": 45,
   "id": "8bc67f15",
   "metadata": {},
   "outputs": [
    {
     "data": {
      "text/plain": [
       "[('Let It Be', 'The Beatles', 1970)]"
      ]
     },
     "execution_count": 45,
     "metadata": {},
     "output_type": "execute_result"
    }
   ],
   "source": [
    "cur.execute(\"select * from music_library\")\n",
    "cur.fetchall()"
   ]
  },
  {
   "cell_type": "code",
   "execution_count": 46,
   "id": "c01a96c5",
   "metadata": {},
   "outputs": [],
   "source": [
    "try:\n",
    "    cur.execute(\"INSERT INTO music_library (album_name, artist_name, year) VALUES (%s, %s, %s)\", \\\n",
    "               (\"Abbey Road\", \"The beatles\", 1969))\n",
    "except pyscop2.Error as e:\n",
    "    print(\"Error: Could not insert values to the table music_library\")\n",
    "    print(e)"
   ]
  },
  {
   "cell_type": "code",
   "execution_count": 49,
   "id": "2f8acf70",
   "metadata": {},
   "outputs": [
    {
     "data": {
      "text/plain": [
       "[('Let It Be', 'The Beatles', 1970), ('Abbey Road', 'The beatles', 1969)]"
      ]
     },
     "execution_count": 49,
     "metadata": {},
     "output_type": "execute_result"
    }
   ],
   "source": [
    "cur.execute(\"SELECT * FROM music_library\")\n",
    "cur.fetchall()"
   ]
  },
  {
   "cell_type": "code",
   "execution_count": 51,
   "id": "3034928b",
   "metadata": {},
   "outputs": [
    {
     "name": "stdout",
     "output_type": "stream",
     "text": [
      "('Let It Be', 'The Beatles', 1970)\n",
      "('Abbey Road', 'The beatles', 1969)\n"
     ]
    }
   ],
   "source": [
    "cur.execute(\"SELECT * FROM music_library\")\n",
    "row = cur.fetchone()\n",
    "while row:\n",
    "    print(row)\n",
    "    row = cur.fetchone()"
   ]
  },
  {
   "cell_type": "code",
   "execution_count": 52,
   "id": "fd49ab40",
   "metadata": {},
   "outputs": [],
   "source": [
    "# Close the cursor and connection.\n",
    "cur.close()\n",
    "conn.close()"
   ]
  }
 ],
 "metadata": {
  "kernelspec": {
   "display_name": "Python 3 (ipykernel)",
   "language": "python",
   "name": "python3"
  },
  "language_info": {
   "codemirror_mode": {
    "name": "ipython",
    "version": 3
   },
   "file_extension": ".py",
   "mimetype": "text/x-python",
   "name": "python",
   "nbconvert_exporter": "python",
   "pygments_lexer": "ipython3",
   "version": "3.8.10"
  }
 },
 "nbformat": 4,
 "nbformat_minor": 5
}
