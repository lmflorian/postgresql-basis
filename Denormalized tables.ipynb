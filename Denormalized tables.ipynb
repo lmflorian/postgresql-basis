{
 "cells": [
  {
   "cell_type": "markdown",
   "id": "c530f001",
   "metadata": {},
   "source": [
    "## Get Denormalized tables from 3NF normalized\n",
    "The besics of modeling data from normalized to denormalized form"
   ]
  },
  {
   "cell_type": "code",
   "execution_count": 1,
   "id": "e6163b01",
   "metadata": {},
   "outputs": [],
   "source": [
    "# Importing library\n",
    "import psycopg2"
   ]
  },
  {
   "cell_type": "code",
   "execution_count": 2,
   "id": "d36bf58a",
   "metadata": {},
   "outputs": [],
   "source": [
    "# Connection\n",
    "try:\n",
    "    conn = psycopg2.connect(\"host=127.0.0.1 dbname=denormdb user=myuser password=password\")\n",
    "except psycopg2.Error as e:\n",
    "    print(\"Error: Could not connect to database denormdb\")\n",
    "    print(e)\n",
    "\n",
    "# Cursor \n",
    "try:\n",
    "    cur = conn.cursor()\n",
    "except psycopg2.Error as e:\n",
    "    print(\"Error: Could not creat the cursor\")\n",
    "    print(e)\n",
    "\n",
    "# Autocommit\n",
    "conn.set_session(autocommit=True)"
   ]
  },
  {
   "cell_type": "markdown",
   "id": "6f68d622",
   "metadata": {},
   "source": [
    "#### Let's start with our normalized (3NF) database set of tables \n",
    "\n",
    "`Table Name: transactions2 \n",
    "column 0: transaction Id\n",
    "column 1: Customer Name\n",
    "column 2: Cashier Id\n",
    "column 3: Year `\n",
    "\n",
    "`Table Name: albums_sold\n",
    "column 0: Album Id\n",
    "column 1: Transaction Id\n",
    "column 3: Album Name` \n",
    "\n",
    "`Table Name: employees\n",
    "column 0: Employee Id\n",
    "column 1: Employee Name `\n",
    "\n",
    "`Table Name: sales\n",
    "column 0: Transaction Id\n",
    "column 1: Amount Spent`\n",
    "\n",
    "<img src=\"images/table2.png\" width=\"350\" height=\"350\"> <img src=\"images/table3.png\" width=\"180\" height=\"180\">"
   ]
  },
  {
   "cell_type": "code",
   "execution_count": 6,
   "id": "7f2394c0",
   "metadata": {},
   "outputs": [],
   "source": [
    "# Creating tables\n",
    "try:\n",
    "    cur.execute(\"CREATE TABLE IF NOT EXISTS transactions2(\\\n",
    "    transaction_id INT, customer_name VARCHAR, cashier_id INT, year INT)\")\n",
    "    \n",
    "    cur.execute(\"CREATE TABLE IF NOT EXISTS albums_sold(\\\n",
    "    album_id INT, transaction_id INT, album_name VARCHAR)\")\n",
    "    \n",
    "    cur.execute(\"CREATE TABLE IF NOT EXISTS employees(\\\n",
    "    employee_id INT, employee_name VARCHAR)\")\n",
    "    \n",
    "    cur.execute(\"CREATE TABLE IF NOT EXISTS sales(\\\n",
    "    transaction_id INT, amount_spent INT)\")\n",
    "\n",
    "except psycopg2.Error as e:\n",
    "    print(\"Error: Could not create database\")\n",
    "    print(e)"
   ]
  },
  {
   "cell_type": "code",
   "execution_count": 7,
   "id": "3deee98e",
   "metadata": {},
   "outputs": [],
   "source": [
    "# Inserting values\n",
    "try:\n",
    "    cur.execute(\"INSERT INTO transactions2(transaction_id, customer_name, cashier_id, year) \\\n",
    "    VALUES (%s, %s, %s, %s)\", (1, \"Amanda\", 1, 2000))\n",
    "    \n",
    "    cur.execute(\"INSERT INTO transactions2(transaction_id, customer_name, cashier_id, year) \\\n",
    "    VALUES (%s, %s, %s, %s)\", (2, \"Toby\", 1, 2000))\n",
    "    \n",
    "    cur.execute(\"INSERT INTO transactions2(transaction_id, customer_name, cashier_id, year) \\\n",
    "    VALUES (%s, %s, %s, %s)\", (3, \"Max\", 2, 2018))\n",
    "    \n",
    "    cur.execute(\"INSERT INTO albums_sold(album_id, transaction_id, album_name) \\\n",
    "    VALUES (%s, %s, %s)\", (1, 1, \"Rubber_Soul\"))\n",
    "    \n",
    "    cur.execute(\"INSERT INTO albums_sold(album_id, transaction_id, album_name) \\\n",
    "    VALUES (%s, %s, %s)\", (2, 1, \"Let It Be\"))\n",
    "    \n",
    "    cur.execute(\"INSERT INTO albums_sold(album_id, transaction_id, album_name) \\\n",
    "    VALUES (%s, %s, %s)\", (3, 2, \"My Generation\"))\n",
    "    \n",
    "    cur.execute(\"INSERT INTO albums_sold(album_id, transaction_id, album_name) \\\n",
    "    VALUES (%s, %s, %s)\", (4, 3, \"Meet the Beatles\"))\n",
    "    \n",
    "    cur.execute(\"INSERT INTO albums_sold(album_id, transaction_id, album_name) \\\n",
    "    VALUES (%s, %s, %s)\", (5, 3, \"Help!\"))\n",
    "    \n",
    "    cur.execute(\"INSERT INTO employees(employee_id, employee_name) \\\n",
    "    VALUES (%s, %s)\", (1, \"Sam\"))\n",
    "    \n",
    "    cur.execute(\"INSERT INTO employees(employee_id, employee_name) \\\n",
    "    VALUES (%s, %s)\", (2, \"Bob\"))\n",
    "    \n",
    "    cur.execute(\"INSERT INTO sales(transaction_id, amount_spent) \\\n",
    "    VALUES (%s, %s)\", (1, 40))\n",
    "    \n",
    "    cur.execute(\"INSERT INTO sales(transaction_id, amount_spent) \\\n",
    "    VALUES (%s, %s)\", (2, 19))\n",
    "    \n",
    "    cur.execute(\"INSERT INTO sales(transaction_id, amount_spent) \\\n",
    "    VALUES (%s, %s)\", (3, 45))   \n",
    "    \n",
    "    \n",
    "except psycopg2.Error as e:\n",
    "    print(\"Error: Could not insert values\")\n",
    "    print(e)"
   ]
  },
  {
   "cell_type": "code",
   "execution_count": 11,
   "id": "37447071",
   "metadata": {},
   "outputs": [
    {
     "name": "stdout",
     "output_type": "stream",
     "text": [
      "\n",
      "---- Table transactions2 ----\n",
      "(1, 'Amanda', 1, 2000)\n",
      "(2, 'Toby', 1, 2000)\n",
      "(3, 'Max', 2, 2018)\n",
      "\n",
      "---- Table albums_sold ----\n",
      "(1, 1, 'Rubber_Soul')\n",
      "(2, 1, 'Let It Be')\n",
      "(3, 2, 'My Generation')\n",
      "(4, 3, 'Meet the Beatles')\n",
      "(5, 3, 'Help!')\n",
      "\n",
      "---- Table employees ----\n",
      "(1, 'Sam')\n",
      "(2, 'Bob')\n",
      "\n",
      "---- Table sales ----\n",
      "(1, 40)\n",
      "(2, 19)\n",
      "(3, 45)\n"
     ]
    }
   ],
   "source": [
    "# Printing tables\n",
    "print(\"\\n---- Table transactions2 ----\")\n",
    "cur.execute(\"SELECT * FROM transactions2\")\n",
    "row = cur.fetchone()\n",
    "while row:\n",
    "    print(row)\n",
    "    row = cur.fetchone()\n",
    "    \n",
    "print(\"\\n---- Table albums_sold ----\")\n",
    "cur.execute(\"SELECT * FROM albums_sold\")\n",
    "row = cur.fetchone()\n",
    "while row:\n",
    "    print(row)\n",
    "    row = cur.fetchone()\n",
    "    \n",
    "print(\"\\n---- Table employees ----\")\n",
    "cur.execute(\"SELECT * FROM employees\")\n",
    "row = cur.fetchone()\n",
    "while row:\n",
    "    print(row)\n",
    "    row = cur.fetchone()\n",
    "        \n",
    "print(\"\\n---- Table sales ----\")\n",
    "cur.execute(\"SELECT * FROM sales\")\n",
    "row = cur.fetchone()\n",
    "while row:\n",
    "    print(row)\n",
    "    row = cur.fetchone()"
   ]
  },
  {
   "cell_type": "markdown",
   "id": "d00e388e",
   "metadata": {},
   "source": [
    "### Lets say we need a query that gives:\n",
    "\n",
    "`transaction_id\n",
    " customer_name\n",
    " cashier name\n",
    " year \n",
    " albums sold\n",
    " amount sold` "
   ]
  },
  {
   "cell_type": "code",
   "execution_count": 28,
   "id": "e3a88117",
   "metadata": {},
   "outputs": [
    {
     "name": "stdout",
     "output_type": "stream",
     "text": [
      "(1, 'Amanda', 'Sam', 2000, 'Rubber_Soul', 40)\n",
      "(1, 'Amanda', 'Sam', 2000, 'Let It Be', 40)\n",
      "(2, 'Toby', 'Sam', 2000, 'My Generation', 19)\n",
      "(3, 'Max', 'Bob', 2018, 'Meet the Beatles', 45)\n",
      "(3, 'Max', 'Bob', 2018, 'Help!', 45)\n"
     ]
    }
   ],
   "source": [
    "try:\n",
    "    cur.execute(\"SELECT transactions2.transaction_id, customer_name, employee_name, year, album_name, amount_spent \\\n",
    "    FROM ((transactions2 JOIN albums_sold ON transactions2.transaction_id = albums_sold.transaction_id) \\\n",
    "    JOIN employees ON employees.employee_id = transactions2.cashier_id) \\\n",
    "    JOIN sales ON sales.transaction_id = transactions2.transaction_id;\") \n",
    "\n",
    "except psycopg2.Error as e:\n",
    "    print(\"Error: Could not execute the query\")\n",
    "    print(e)\n",
    "    \n",
    "row = cur.fetchone()\n",
    "while row:\n",
    "    print(row)\n",
    "    row = cur.fetchone()"
   ]
  },
  {
   "cell_type": "markdown",
   "id": "8bb2f306",
   "metadata": {},
   "source": [
    "We had to perform a 3 way `JOIN` to get there. While it's great we had that flexibility, we need to remember that `JOINS` are slow and if we have a read heavy workload that required low latency queries we want to reduce the number of `JOINS`.  Let's think about denormalizing our normalized tables."
   ]
  },
  {
   "cell_type": "markdown",
   "id": "d65de362",
   "metadata": {},
   "source": [
    "### Let's denormalize "
   ]
  },
  {
   "cell_type": "markdown",
   "id": "83dd9000",
   "metadata": {},
   "source": [
    "###  Query 1: `select transaction_id, customer_name, amount_spent FROM <min number of tables>`\n",
    "\n",
    "One way to do this would be to do a JOIN on the `sales` and `transactions2` table but we want to minimize the use of `JOINS`.  \n",
    "\n",
    "To reduce the number of tables, first add `amount_spent` to the `transactions` table so that you will not need to do a JOIN at all. \n",
    "\n",
    "`Table Name: transactions \n",
    "column 0: transaction Id\n",
    "column 1: Customer Name\n",
    "column 2: Cashier Id\n",
    "column 3: Year\n",
    "column 4: amount_spent`\n",
    "\n",
    "<img src=\"images/table4.png\" width=\"350\" height=\"350\">\n"
   ]
  },
  {
   "cell_type": "code",
   "execution_count": 30,
   "id": "3663d13c",
   "metadata": {},
   "outputs": [],
   "source": [
    "# Creating table\n",
    "try:\n",
    "    cur.execute(\"CREATE TABLE IF NOT EXISTS transactions(\\\n",
    "    transaction_id INT, customer_name VARCHAR, cashier_id INT, year INT, amount_spent INT)\")\n",
    "\n",
    "except psycopg2.Error as e:\n",
    "    print(\"Error: Could not create transactions TABLE\")\n",
    "    print(e)"
   ]
  },
  {
   "cell_type": "code",
   "execution_count": 32,
   "id": "f31006f6",
   "metadata": {},
   "outputs": [],
   "source": [
    "# Inserting values\n",
    "try:\n",
    "    cur.execute(\"INSERT INTO transactions(transaction_id, customer_name, cashier_id, year, amount_spent) \\\n",
    "    VALUES (%s, %s, %s, %s, %s)\", (1, \"Amanda\", 1, 2000, 40))\n",
    "    \n",
    "    cur.execute(\"INSERT INTO transactions(transaction_id, customer_name, cashier_id, year, amount_spent) \\\n",
    "    VALUES (%s, %s, %s, %s, %s)\", (2, \"Toby\", 1, 2000, 19))\n",
    "    \n",
    "    cur.execute(\"INSERT INTO transactions(transaction_id, customer_name, cashier_id, year, amount_spent) \\\n",
    "    VALUES (%s, %s, %s, %s, %s)\", (3, \"Max\", 2, 2018, 45))\n",
    "\n",
    "except psycopg2.Error as e:\n",
    "    print(\"Error: Could not insert values in transactions TABLE\")\n",
    "    print(e)"
   ]
  },
  {
   "cell_type": "code",
   "execution_count": 33,
   "id": "4c0dd889",
   "metadata": {},
   "outputs": [
    {
     "name": "stdout",
     "output_type": "stream",
     "text": [
      "(1, 'Amanda', 40)\n",
      "(2, 'Toby', 19)\n",
      "(3, 'Max', 45)\n"
     ]
    }
   ],
   "source": [
    "try:\n",
    "    cur.execute(\"SELECT transaction_id, customer_name, amount_spent FROM transactions\")\n",
    "except psycopg2.Error as e:\n",
    "    print(\"Error: Could not execute SELECT\")\n",
    "    print(e)\n",
    "    \n",
    "row = cur.fetchone()\n",
    "while row:\n",
    "    print(row)\n",
    "    row = cur.fetchone()"
   ]
  },
  {
   "cell_type": "markdown",
   "id": "8bc3e1d0",
   "metadata": {},
   "source": [
    "### Query 2: `select cashier_name, SUM(amount_spent) FROM <min number of tables> GROUP BY cashier_name` \n",
    "\n",
    "To avoid using any `JOINS`, first create a new table with just the information we need. \n",
    "\n",
    "`Table Name: cashier_sales\n",
    "col: Transaction Id\n",
    "Col: Cashier Name\n",
    "Col: Cashier Id\n",
    "col: Amount_Spent\n",
    "`\n",
    "\n",
    "<img src=\"images/table5.png\" width=\"350\" height=\"350\">"
   ]
  },
  {
   "cell_type": "code",
   "execution_count": 35,
   "id": "5dec344a",
   "metadata": {},
   "outputs": [],
   "source": [
    "# Creating tables\n",
    "try:\n",
    "    cur.execute(\"CREATE TABLE IF NOT EXISTS cashier_sales(\\\n",
    "    transaction_id INT, cashier_name VARCHAR, cashier_id INT, amount_spent INT);\")\n",
    "\n",
    "except psycopg2.Error as e:\n",
    "    print(\"Error: Could not create cashier_sales TABLE\")\n",
    "    print(e)"
   ]
  },
  {
   "cell_type": "code",
   "execution_count": 36,
   "id": "ffc25b3b",
   "metadata": {},
   "outputs": [],
   "source": [
    "# Inserting values\n",
    "try:\n",
    "    cur.execute(\"INSERT INTO cashier_sales(transaction_id, cashier_name, cashier_id, amount_spent) \\\n",
    "    VALUES (%s, %s, %s, %s)\", (1, \"Sam\", 1, 40))\n",
    "    \n",
    "    cur.execute(\"INSERT INTO cashier_sales(transaction_id, cashier_name, cashier_id, amount_spent) \\\n",
    "    VALUES (%s, %s, %s, %s)\", (2, \"Sam\", 1, 19))\n",
    "    \n",
    "    cur.execute(\"INSERT INTO cashier_sales(transaction_id, cashier_name, cashier_id, amount_spent) \\\n",
    "    VALUES (%s, %s, %s, %s)\", (3, \"Bob\", 2, 45))\n",
    "\n",
    "except psycopg2.Error as e:\n",
    "    print(\"Error: Could not insert values\")\n",
    "    print(e)"
   ]
  },
  {
   "cell_type": "code",
   "execution_count": 37,
   "id": "77022a28",
   "metadata": {},
   "outputs": [
    {
     "name": "stdout",
     "output_type": "stream",
     "text": [
      "('Sam', 59)\n",
      "('Bob', 45)\n"
     ]
    }
   ],
   "source": [
    "# Run the query\n",
    "try:\n",
    "    cur.execute(\"SELECT cashier_name, SUM(amount_spent) FROM cashier_sales \\\n",
    "    GROUP BY cashier_name;\")\n",
    "except psycopg2.Error as e:\n",
    "    print(\"Error: Could not run the query\")\n",
    "    print(e)\n",
    "\n",
    "row = cur.fetchone()\n",
    "while row:\n",
    "    print(row)\n",
    "    row = cur.fetchone()"
   ]
  },
  {
   "cell_type": "markdown",
   "id": "58ff58d4",
   "metadata": {},
   "source": [
    "### Drop the tables"
   ]
  },
  {
   "cell_type": "code",
   "execution_count": 38,
   "id": "c78ce4e0",
   "metadata": {},
   "outputs": [],
   "source": [
    "try:\n",
    "    cur.execute(\"DROP TABLE transactions2;\")\n",
    "    cur.execute(\"DROP TABLE albums_sold;\")\n",
    "    cur.execute(\"DROP TABLE employees;\")\n",
    "    cur.execute(\"DROP TABLE sales;\")\n",
    "    cur.execute(\"DROP TABLE transactions;\")\n",
    "    cur.execute(\"DROP TABLE cashier_sales;\")\n",
    "\n",
    "except psycopg2.Error as e:\n",
    "    print(\"Error: Could not delete tables\")\n",
    "    print(e)"
   ]
  },
  {
   "cell_type": "markdown",
   "id": "7a7deed4",
   "metadata": {},
   "source": [
    "### Close cursor and connection"
   ]
  },
  {
   "cell_type": "code",
   "execution_count": 39,
   "id": "80423850",
   "metadata": {},
   "outputs": [],
   "source": [
    "cur.close()\n",
    "conn.close()"
   ]
  }
 ],
 "metadata": {
  "kernelspec": {
   "display_name": "Python 3 (ipykernel)",
   "language": "python",
   "name": "python3"
  },
  "language_info": {
   "codemirror_mode": {
    "name": "ipython",
    "version": 3
   },
   "file_extension": ".py",
   "mimetype": "text/x-python",
   "name": "python",
   "nbconvert_exporter": "python",
   "pygments_lexer": "ipython3",
   "version": "3.8.10"
  }
 },
 "nbformat": 4,
 "nbformat_minor": 5
}
