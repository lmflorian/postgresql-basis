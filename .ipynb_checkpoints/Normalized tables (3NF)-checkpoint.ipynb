{
 "cells": [
  {
   "cell_type": "markdown",
   "id": "edd08752",
   "metadata": {},
   "source": [
    "### In this practice we are going to walk through the basics of modeling data in normalized form."
   ]
  },
  {
   "cell_type": "code",
   "execution_count": 18,
   "id": "2fc6dc7a",
   "metadata": {},
   "outputs": [],
   "source": [
    "#Import library\n",
    "import psycopg2"
   ]
  },
  {
   "cell_type": "code",
   "execution_count": 19,
   "id": "13d759bf",
   "metadata": {},
   "outputs": [],
   "source": [
    "#Create a connection to the database and set autocommit to True.\n",
    "try:\n",
    "    conn = psycopg2.connect(\"host=127.0.0.1 dbname=normdb user=myuser password=password\")\n",
    "except psycopg2.Error as e:\n",
    "    print(\"Error: Could not connect to database\")\n",
    "    print(e)\n",
    "\n",
    "try:\n",
    "    cur = conn.cursor()\n",
    "except psycopg2.Error as e:\n",
    "    print(\"Error: Could not get cursor to database\")\n",
    "    print(e)\n",
    "\n",
    "conn.set_session(autocommit=True)"
   ]
  },
  {
   "cell_type": "markdown",
   "id": "ecc26853",
   "metadata": {},
   "source": [
    "#### Let's imagine we have a table called Music Store. \n",
    "\n",
    "`Table Name: music_store\n",
    "column 0: Transaction Id\n",
    "column 1: Customer Name\n",
    "column 2: Cashier Name\n",
    "column 3: Year \n",
    "column 4: Albums Purchased`\n",
    "\n",
    "\n",
    "### Now to translate this information into a CREATE Table Statement and insert the data\n",
    "\n",
    "<img src=\"images/tabla1.png\" width=\"650\" height=\"650\">"
   ]
  },
  {
   "cell_type": "code",
   "execution_count": 25,
   "id": "f8069e11",
   "metadata": {},
   "outputs": [],
   "source": [
    "# Creating the table\n",
    "cur.execute(\"DROP TABLE music_store\")\n",
    "try:\n",
    "    cur.execute(\"CREATE TABLE IF NOT EXISTS music_store(\\\n",
    "    transaction_id int, customer_name varchar, cashier_name varchar, year int, albums_purchased text[])\")\n",
    "except psycopg2.Error as e:\n",
    "    print(\"Error: Could not create the table music_store\")\n",
    "    print(e)"
   ]
  },
  {
   "cell_type": "code",
   "execution_count": 26,
   "id": "7a160f4b",
   "metadata": {},
   "outputs": [],
   "source": [
    "# Inserting values first row\n",
    "try:\n",
    "    cur.execute(\"INSERT INTO music_store(transaction_id, customer_name, cashier_name, year, albums_purchased) \\\n",
    "    VALUES (%s, %s, %s, %s, %s)\",\\\n",
    "               (1, \"Amanda\", \"Sam\", 2000, [\"Rubber Soul\", \"Let it Be\"]))\n",
    "except psycopg2.Error as e:\n",
    "    print(\"Error: Could not insert first row\")\n",
    "    print(e)"
   ]
  },
  {
   "cell_type": "code",
   "execution_count": 27,
   "id": "ca725ad8",
   "metadata": {},
   "outputs": [],
   "source": [
    "# Inserting values second row\n",
    "try:\n",
    "    cur.execute(\"INSERT INTO music_store(transaction_id, customer_name, cashier_name, year, albums_purchased) \\\n",
    "    VALUES (%s, %s, %s, %s, %s)\",\\\n",
    "               (2, \"Toby\", \"Sam\", 2000, [\"My Generation\"]))\n",
    "except psycopg2.Error as e:\n",
    "    print(\"Error: Could not insert second row\")\n",
    "    print(e)"
   ]
  },
  {
   "cell_type": "code",
   "execution_count": 28,
   "id": "d49d5598",
   "metadata": {},
   "outputs": [],
   "source": [
    "# Inserting values third row\n",
    "try:\n",
    "    cur.execute(\"INSERT INTO music_store(transaction_id, customer_name, cashier_name, year, albums_purchased) \\\n",
    "    VALUES (%s, %s, %s, %s, %s)\",\\\n",
    "               (3, \"Max\", \"Bob\", 2018, [\"Meet the Beatles\", \"Help!\"]))\n",
    "except psycopg2.Error as e:\n",
    "    print(\"Error: Could not insert thrid row\")\n",
    "    print(e)"
   ]
  },
  {
   "cell_type": "code",
   "execution_count": 29,
   "id": "c69bc76c",
   "metadata": {},
   "outputs": [
    {
     "name": "stdout",
     "output_type": "stream",
     "text": [
      "(1, 'Amanda', 'Sam', 2000, ['Rubber Soul', 'Let it Be'])\n",
      "(2, 'Toby', 'Sam', 2000, ['My Generation'])\n",
      "(3, 'Max', 'Bob', 2018, ['Meet the Beatles', 'Help!'])\n"
     ]
    }
   ],
   "source": [
    "# Verification\n",
    "cur.execute(\"SELECT * FROM music_store\")\n",
    "row = cur.fetchone()\n",
    "while row:\n",
    "    print(row)\n",
    "    row = cur.fetchone()"
   ]
  },
  {
   "cell_type": "markdown",
   "id": "bb22f0ff",
   "metadata": {},
   "source": [
    "### Moving to 1st Normal Form (1NF)\n",
    "\n",
    "#### TO-DO: This data has not been normalized. To get this data into 1st normal form, you need to remove any collections or list of data and break up the list of songs into individual rows. "
   ]
  },
  {
   "cell_type": "code",
   "execution_count": 30,
   "id": "920f653a",
   "metadata": {},
   "outputs": [],
   "source": [
    "# Creating new table \n",
    "cur.execute(\"DROP TABLE music_store2\")\n",
    "try:\n",
    "    cur.execute(\"CREATE TABLE IF NOT EXISTS music_store2(\\\n",
    "    transaction_id int, customer_name varchar, cashier_name varchar, year int, albums_purchased varchar)\")\n",
    "except psycopg2.Error as e:\n",
    "    print(\"Error: Could not create music_store2 database\")\n",
    "    print(e)"
   ]
  },
  {
   "cell_type": "code",
   "execution_count": 31,
   "id": "2f3ce386",
   "metadata": {},
   "outputs": [],
   "source": [
    "# Inserting values \n",
    "try:\n",
    "    cur.execute(\"INSERT INTO music_store2(transaction_id, customer_name, cashier_name, year, albums_purchased) \\\n",
    "    VALUES (%s, %s, %s, %s, %s)\",\\\n",
    "               (1, \"Amanda\", \"Sam\", 2000, \"Rubber Soul\"))\n",
    "    \n",
    "    cur.execute(\"INSERT INTO music_store2(transaction_id, customer_name, cashier_name, year, albums_purchased) \\\n",
    "    VALUES (%s, %s, %s, %s, %s)\",\\\n",
    "               (1, \"Amanda\", \"Sam\", 2000, \"Let it Be\"))\n",
    "    \n",
    "    cur.execute(\"INSERT INTO music_store2(transaction_id, customer_name, cashier_name, year, albums_purchased) \\\n",
    "    VALUES (%s, %s, %s, %s, %s)\",\\\n",
    "               (2, \"Toby\", \"Sam\", 2000, \"My Generation\"))\n",
    "    \n",
    "    cur.execute(\"INSERT INTO music_store2(transaction_id, customer_name, cashier_name, year, albums_purchased) \\\n",
    "    VALUES (%s, %s, %s, %s, %s)\",\\\n",
    "               (3, \"Max\", \"Bob\", 2018, \"Meet the Beatles\"))\n",
    "    \n",
    "    cur.execute(\"INSERT INTO music_store2(transaction_id, customer_name, cashier_name, year, albums_purchased) \\\n",
    "    VALUES (%s, %s, %s, %s, %s)\",\\\n",
    "               (3, \"Max\", \"Bob\", 2018, \"Help!\"))\n",
    "\n",
    "except psycopg2.Error as e:\n",
    "    print(\"Error: Could not insert values\")\n",
    "    print(e)\n",
    "    "
   ]
  },
  {
   "cell_type": "code",
   "execution_count": 32,
   "id": "61668287",
   "metadata": {},
   "outputs": [
    {
     "name": "stdout",
     "output_type": "stream",
     "text": [
      "(1, 'Amanda', 'Sam', 2000, 'Rubber Soul')\n",
      "(1, 'Amanda', 'Sam', 2000, 'Let it Be')\n",
      "(2, 'Toby', 'Sam', 2000, 'My Generation')\n",
      "(3, 'Max', 'Bob', 2018, 'Meet the Beatles')\n",
      "(3, 'Max', 'Bob', 2018, 'Help!')\n"
     ]
    }
   ],
   "source": [
    "# Inserting 1NF verification\n",
    "cur.execute(\"SELECT * FROM music_store2\")\n",
    "row = cur.fetchone()\n",
    "\n",
    "while row:\n",
    "    print(row)\n",
    "    row = cur.fetchone()"
   ]
  },
  {
   "cell_type": "markdown",
   "id": "17c84f07",
   "metadata": {},
   "source": [
    "### Moving to 2nd Normal Form (2NF)\n",
    "You have now moved the data into 1NF, which is the first step in moving to 2nd Normal Form. The table is not yet in 2nd Normal Form. While each of the records in the table is unique, our Primary key (transaction id) is not unique. \n",
    "\n",
    "#### TO-DO: Break up the table into two tables, transactions and albums sold. \n"
   ]
  },
  {
   "cell_type": "code",
   "execution_count": 33,
   "id": "4b517c10",
   "metadata": {},
   "outputs": [],
   "source": [
    "cur.execute(\"DROP TABLE transactions\")\n",
    "cur.execute(\"DROP TABLE albums_sold\")\n",
    "try:\n",
    "    cur.execute(\"CREATE TABLE IF NOT EXISTS transactions(\\\n",
    "    transaction_id INT, customer_name VARCHAR, cashier_name VARCHAR, year INT)\")\n",
    "except psycopg2.Error as e:\n",
    "    print(\"Error: Could not create transactions table\")\n",
    "    print(e)\n",
    "    \n",
    "try:\n",
    "    cur.execute(\"CREATE TABLE IF NOT EXISTS albums_sold(\\\n",
    "    album_id INT, album_name VARCHAR, transaction_id INT)\")\n",
    "except psycopg2.Error as e:\n",
    "    print(\"Error: Could not create albums_sold table\")\n",
    "    print(e)"
   ]
  },
  {
   "cell_type": "code",
   "execution_count": 34,
   "id": "f41ea311",
   "metadata": {},
   "outputs": [],
   "source": [
    "#Inserting values into transactions table\n",
    "try:\n",
    "    cur.execute(\"INSERT INTO transactions(\\\n",
    "    transaction_id, customer_name, cashier_name, year) \\\n",
    "    VALUES (%s, %s, %s, %s)\", \\\n",
    "               (1, \"Amanda\", \"Sam\", 2000))\n",
    "\n",
    "    cur.execute(\"INSERT INTO transactions(\\\n",
    "    transaction_id, customer_name, cashier_name, year) \\\n",
    "    VALUES (%s, %s, %s, %s)\", \\\n",
    "               (2, \"Toby\", \"Sam\", 2000))\\\n",
    "    \n",
    "    cur.execute(\"INSERT INTO transactions(\\\n",
    "    transaction_id, customer_name, cashier_name, year) \\\n",
    "    VALUES (%s, %s, %s, %s)\", \\\n",
    "               (3, \"Max\", \"Bob\", 2018))\n",
    "    \n",
    "except psycopg2.Error as e:\n",
    "    print(\"Error: Could not insert data into transactions\")\n",
    "    print(e)    "
   ]
  },
  {
   "cell_type": "code",
   "execution_count": 35,
   "id": "43afc700",
   "metadata": {},
   "outputs": [],
   "source": [
    "#Inserting values into albums_sold table\n",
    "try:\n",
    "    cur.execute(\"INSERT INTO albums_sold(album_id, album_name, transaction_id) \\\n",
    "    VALUES (%s, %s, %s)\", \\\n",
    "               (1, \"Rubber Soul\", 1))\n",
    "    \n",
    "    cur.execute(\"INSERT INTO albums_sold(album_id, album_name, transaction_id) \\\n",
    "    VALUES (%s, %s, %s)\", \\\n",
    "               (2, \"Let it Be\", 1))\n",
    "    \n",
    "    cur.execute(\"INSERT INTO albums_sold(album_id, album_name, transaction_id) \\\n",
    "    VALUES (%s, %s, %s)\", \\\n",
    "               (3, \"My Generation\", 2))\n",
    "    \n",
    "    cur.execute(\"INSERT INTO albums_sold(album_id, album_name, transaction_id) \\\n",
    "    VALUES (%s, %s, %s)\", \\\n",
    "               (4, \"Meet the Beatles\", 3))\n",
    "    \n",
    "    cur.execute(\"INSERT INTO albums_sold(album_id, album_name, transaction_id) \\\n",
    "    VALUES (%s, %s, %s)\", \\\n",
    "               (5, \"Help!\", 3))\n",
    "    \n",
    "except psycopg2.Error as e:\n",
    "    print(\"Error: Could not insert data into transactions\")\n",
    "    print(e)    "
   ]
  },
  {
   "cell_type": "code",
   "execution_count": 39,
   "id": "0c923978",
   "metadata": {},
   "outputs": [
    {
     "name": "stdout",
     "output_type": "stream",
     "text": [
      "----- Album transactions -----\n",
      "\n",
      "(1, 'Amanda', 'Sam', 2000)\n",
      "(2, 'Toby', 'Sam', 2000)\n",
      "(3, 'Max', 'Bob', 2018)\n",
      "\n",
      "----- Album albums_sold -----\n",
      "\n",
      "(1, 'Rubber Soul', 1)\n",
      "(2, 'Let it Be', 1)\n",
      "(3, 'My Generation', 2)\n",
      "(4, 'Meet the Beatles', 3)\n",
      "(5, 'Help!', 3)\n"
     ]
    }
   ],
   "source": [
    "# 2NF verification\n",
    "print(\"----- Album transactions -----\\n\")\n",
    "cur.execute(\"SELECT * FROM transactions\")\n",
    "row = cur.fetchone()\n",
    "while row:\n",
    "    print(row)\n",
    "    row = cur.fetchone()\n",
    "    \n",
    "print(\"\\n----- Album albums_sold -----\\n\")\n",
    "cur.execute(\"SELECT * FROM albums_sold\")\n",
    "row = cur.fetchone()\n",
    "while row:\n",
    "    print(row)\n",
    "    row = cur.fetchone()"
   ]
  },
  {
   "cell_type": "markdown",
   "id": "dcf57921",
   "metadata": {},
   "source": [
    "#### Do a JOIN on these tables to get all the information in the original first table"
   ]
  },
  {
   "cell_type": "code",
   "execution_count": 44,
   "id": "19e0fbbe",
   "metadata": {},
   "outputs": [
    {
     "name": "stdout",
     "output_type": "stream",
     "text": [
      "(1, 'Amanda', 'Sam', 2000, 1, 'Rubber Soul', 1)\n",
      "(1, 'Amanda', 'Sam', 2000, 2, 'Let it Be', 1)\n",
      "(2, 'Toby', 'Sam', 2000, 3, 'My Generation', 2)\n",
      "(3, 'Max', 'Bob', 2018, 4, 'Meet the Beatles', 3)\n",
      "(3, 'Max', 'Bob', 2018, 5, 'Help!', 3)\n"
     ]
    }
   ],
   "source": [
    "try:\n",
    "    cur.execute(\"SELECT * FROM transactions JOIN albums_sold ON transactions.transaction_id = albums_sold.transaction_id;\")\n",
    "except psycopg2.Error as e:\n",
    "    print(\"Error: Could not execute the JOIN\")\n",
    "    print(e)\n",
    "\n",
    "row = cur.fetchone()\n",
    "while row:\n",
    "    print(row)\n",
    "    row = cur.fetchone()\n",
    "    "
   ]
  },
  {
   "cell_type": "markdown",
   "id": "e6f57e48",
   "metadata": {},
   "source": [
    "### Moving to 3rd Normal Form (3NF)\n",
    "Check our table for any transitive dependencies. \n",
    "_HINT:_ Check the table for any transitive dependencies. _Transactions_ can remove _Cashier Name_ to its own table, called _Employees_, which will leave us with 3 tables. "
   ]
  },
  {
   "cell_type": "code",
   "execution_count": 47,
   "id": "90c4fa92",
   "metadata": {},
   "outputs": [],
   "source": [
    "# Creating new tables\n",
    "try:\n",
    "    cur.execute(\"CREATE TABLE IF NOT EXISTS transactions2 (\\\n",
    "    transaction_id INT, customer_name VARCHAR, cashier_id INT, year INT)\")\n",
    "    \n",
    "    cur.execute(\"CREATE TABLE IF NOT EXISTS employee(\\\n",
    "    cashier_id INT, cachier_name VARCHAR)\")\n",
    "except psycopg2.Error as e:\n",
    "    print(\"Error: Could not create tables transaction2 or employee\")\n",
    "    print(e)"
   ]
  },
  {
   "cell_type": "code",
   "execution_count": 48,
   "id": "038b3f95",
   "metadata": {},
   "outputs": [],
   "source": [
    "# Inserting values\n",
    "try:\n",
    "    cur.execute(\"INSERT INTO transactions2(transaction_id, customer_name, cashier_id, year) \\\n",
    "    VALUES (%s, %s, %s, %s)\", \\\n",
    "                (1, \"Amanda\", 1, 2000))\n",
    "    \n",
    "    cur.execute(\"INSERT INTO transactions2(transaction_id, customer_name, cashier_id, year) \\\n",
    "    VALUES (%s, %s, %s, %s)\", \\\n",
    "                (2, \"Toby\", 1, 2000))\n",
    "    \n",
    "    cur.execute(\"INSERT INTO transactions2(transaction_id, customer_name, cashier_id, year) \\\n",
    "    VALUES (%s, %s, %s, %s)\", \\\n",
    "                (3, \"Max\", 2, 2018))\n",
    "    \n",
    "    cur.execute(\"INSERT INTO employee (cashier_id, cachier_name) \\\n",
    "    VALUES (%s, %s)\", \\\n",
    "               (1, \"Sam\"))\n",
    "    \n",
    "    cur.execute(\"INSERT INTO employee (cashier_id, cachier_name) \\\n",
    "    VALUES (%s, %s)\", \\\n",
    "               (2, \"Bob\"))\n",
    "except psycopg2.Error as e:\n",
    "    print(\"Error: Could not insert values in employee or transactions2 table\")\n",
    "    print(e)    "
   ]
  },
  {
   "cell_type": "code",
   "execution_count": 53,
   "id": "f4befda4",
   "metadata": {},
   "outputs": [
    {
     "name": "stdout",
     "output_type": "stream",
     "text": [
      "----- Album transactions2 -----\n",
      "(1, 'Amanda', 1, 2000)\n",
      "(2, 'Toby', 1, 2000)\n",
      "(3, 'Max', 2, 2018)\n",
      "\n",
      "----- Album albums_sold -----\n",
      "(1, 'Rubber Soul', 1)\n",
      "(2, 'Let it Be', 1)\n",
      "(3, 'My Generation', 2)\n",
      "(4, 'Meet the Beatles', 3)\n",
      "(5, 'Help!', 3)\n",
      "\n",
      "----- Album employee-----\n",
      "(1, 'Sam')\n",
      "(2, 'Bob')\n"
     ]
    }
   ],
   "source": [
    "print(\"----- Album transactions2 -----\")\n",
    "cur.execute(\"SELECT * FROM transactions2;\")\n",
    "row = cur.fetchone()\n",
    "while row:\n",
    "    print(row)\n",
    "    row = cur.fetchone()\n",
    "\n",
    "print(\"\\n----- Album albums_sold -----\")\n",
    "cur.execute(\"SELECT * FROM albums_sold;\")\n",
    "row = cur.fetchone()\n",
    "while row:\n",
    "    print(row)\n",
    "    row = cur.fetchone()\n",
    "\n",
    "print(\"\\n----- Album employee-----\")\n",
    "cur.execute(\"SELECT * FROM employee;\")\n",
    "row = cur.fetchone()\n",
    "while row:\n",
    "    print(row)\n",
    "    row = cur.fetchone()\n"
   ]
  },
  {
   "cell_type": "markdown",
   "id": "e49d693d",
   "metadata": {},
   "source": [
    "#### TO-DO: Complete the last two `JOIN` on these 3 tables so we can get all the information we had in our first Table. "
   ]
  },
  {
   "cell_type": "code",
   "execution_count": 56,
   "id": "fc90bfe3",
   "metadata": {},
   "outputs": [
    {
     "name": "stdout",
     "output_type": "stream",
     "text": [
      "(1, 'Amanda', 1, 2000, 1, 'Rubber Soul', 1, 1, 'Sam')\n",
      "(1, 'Amanda', 1, 2000, 2, 'Let it Be', 1, 1, 'Sam')\n",
      "(2, 'Toby', 1, 2000, 3, 'My Generation', 2, 1, 'Sam')\n",
      "(3, 'Max', 2, 2018, 4, 'Meet the Beatles', 3, 2, 'Bob')\n",
      "(3, 'Max', 2, 2018, 5, 'Help!', 3, 2, 'Bob')\n"
     ]
    }
   ],
   "source": [
    "try: \n",
    "    cur.execute(\"SELECT * FROM (transactions2 JOIN albums_sold ON \\\n",
    "                               transactions2.transaction_id = albums_sold.transaction_id) JOIN \\\n",
    "                               employee ON employee.cashier_id= transactions2.cashier_id;\")\n",
    "except psycopg2.Error as e: \n",
    "    print(\"Error: select *\")\n",
    "    print (e)\n",
    "\n",
    "row = cur.fetchone()\n",
    "while row:\n",
    "   print(row)\n",
    "   row = cur.fetchone()"
   ]
  },
  {
   "cell_type": "code",
   "execution_count": 57,
   "id": "8a1813cc",
   "metadata": {},
   "outputs": [],
   "source": [
    "try: \n",
    "    cur.execute(\"DROP table music_store\")\n",
    "except psycopg2.Error as e: \n",
    "    print(\"Error: Dropping table\")\n",
    "    print (e)\n",
    "try: \n",
    "    cur.execute(\"DROP table music_store2\")\n",
    "except psycopg2.Error as e: \n",
    "    print(\"Error: Dropping table\")\n",
    "    print (e)\n",
    "try: \n",
    "    cur.execute(\"DROP table albums_sold\")\n",
    "except psycopg2.Error as e: \n",
    "    print(\"Error: Dropping table\")\n",
    "    print (e)\n",
    "try: \n",
    "    cur.execute(\"DROP table employee\")\n",
    "except psycopg2.Error as e: \n",
    "    print(\"Error: Dropping table\")\n",
    "    print (e)\n",
    "try: \n",
    "    cur.execute(\"DROP table transactions\")\n",
    "except psycopg2.Error as e: \n",
    "    print(\"Error: Dropping table\")\n",
    "    print (e)\n",
    "try: \n",
    "    cur.execute(\"DROP table transactions2\")\n",
    "except psycopg2.Error as e: \n",
    "    print(\"Error: Dropping table\")\n",
    "    print (e)"
   ]
  },
  {
   "cell_type": "code",
   "execution_count": 58,
   "id": "e51f689a",
   "metadata": {},
   "outputs": [],
   "source": [
    "#Closing cursor and connection\n",
    "cur.close()\n",
    "conn.close()"
   ]
  }
 ],
 "metadata": {
  "kernelspec": {
   "display_name": "Python 3 (ipykernel)",
   "language": "python",
   "name": "python3"
  },
  "language_info": {
   "codemirror_mode": {
    "name": "ipython",
    "version": 3
   },
   "file_extension": ".py",
   "mimetype": "text/x-python",
   "name": "python",
   "nbconvert_exporter": "python",
   "pygments_lexer": "ipython3",
   "version": "3.8.10"
  }
 },
 "nbformat": 4,
 "nbformat_minor": 5
}
